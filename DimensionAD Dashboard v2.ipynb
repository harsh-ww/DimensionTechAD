{
 "cells": [
  {
   "cell_type": "code",
   "execution_count": 1,
   "id": "4c714562",
   "metadata": {},
   "outputs": [],
   "source": [
    "import pandas as pd\n",
    "import numpy as np\n",
    "import seaborn as sns\n",
    "import matplotlib.pyplot as plt\n",
    "import ipywidgets as widgets\n",
    "from ipywidgets import interactive,interact, HBox, Layout,VBox\n",
    "from IPython.display import display, clear_output\n",
    "import os\n",
    "\n",
    "\n",
    "CSI_Header = ['Date', 'Source', 'Source-ID', 'Open', 'High', 'Low', 'AdjustedClose', 'Close', 'Volume', 'Contract']\n",
    "data_files = os.listdir('./data')\n",
    "subset = []\n",
    "date_col = \"Date\"\n",
    "ret_col = \"LRN\"\n",
    "style = {'description_width': 'initial'}"
   ]
  },
  {
   "cell_type": "code",
   "execution_count": 2,
   "id": "dcbbd5f5",
   "metadata": {},
   "outputs": [],
   "source": [
    "def dfReader(file):\n",
    "    global df, fileName\n",
    "    fileName = file\n",
    "    file_path = \"./data/\" + fileName\n",
    "    # load csv into a dataframe\n",
    "    df = pd.read_csv(file_path, names=CSI_Header)\n",
    "    # Ensure the date column is in datetime format\n",
    "    df[date_col] = pd.to_datetime(df[date_col])\n",
    "    df.set_index(date_col, inplace=True)\n",
    "    "
   ]
  },
  {
   "cell_type": "code",
   "execution_count": 3,
   "id": "921da511",
   "metadata": {
    "scrolled": false
   },
   "outputs": [],
   "source": [
    "def getColumns(dependentVar, windowSize):\n",
    "    global value_col\n",
    "    value_col = dependentVar\n",
    "    # Calculate additional columns of interest\n",
    "    df[\"SMA\"] = df[value_col].rolling(window=windowSize).mean()\n",
    "    df[\"EWMA\"] = df[value_col].ewm(span=windowSize, adjust=False).mean()\n",
    "    df[\"SRN\"] = df[value_col].pct_change()\n",
    "    df[\"LRN\"] = np.log(df[value_col] / df[value_col].shift(1))\n",
    "    df['cum_SRN'] = df[\"SRN\"].cumsum()\n",
    "    df['cum_LRN'] = df[\"LRN\"].cumsum()\n",
    "    \n",
    "    \n",
    "    ## Exponential moving average strategy calcualtions\n",
    "    df[\"EWMA_100\"] = df[value_col].ewm(span=100, adjust=False).mean()\n",
    "    df['Position'] = np.where(df['EWMA_100'] > df['EWMA'], 1, 0) #1 if long, 0 if flat\n",
    "    df['Position'] = df['Position'].shift()\n",
    "    df['StrategyPct'] = df[value_col].pct_change(1) * df['Position']\n",
    "    df['Strategy'] = (df['StrategyPct'] + 1).cumprod()\n",
    "    df['BuyHold'] = (df[value_col].pct_change(1) + 1).cumprod()\n",
    "    \n",
    "    \n",
    "    ## Simple moving average strategy calcualtions\n",
    "    df[\"SMA100\"] = df[value_col].rolling(window=100).mean()\n",
    "    df['PositionSMA'] = np.where(df['SMA'] > df['SMA100'], 1, 0)\n",
    "    df['PositionSMA'] = df['PositionSMA'].shift()\n",
    "    df['StrategyPctSMA'] = df[value_col].pct_change(1) * df['PositionSMA']\n",
    "    df['StrategySMA'] = (df['StrategyPctSMA'] + 1).cumprod()\n",
    "    df['BuyHoldSMA'] = (df[value_col].pct_change(1) + 1).cumprod()\n",
    "    "
   ]
  },
  {
   "cell_type": "code",
   "execution_count": 4,
   "id": "76245820",
   "metadata": {},
   "outputs": [],
   "source": [
    "def plot_timeseries(MA_cols, strat_cols):\n",
    "    \n",
    "    clear_output(wait=True)\n",
    "    # plot the main variable, plus additional moving averages or strategies\n",
    "    plotCols = [value_col]\n",
    "    plotCols.pop()\n",
    "    \n",
    "    for i in range (len(MA_cols)):\n",
    "        plotCols.append(MA_cols[i])\n",
    "    for j in range (len(strat_cols)):\n",
    "        plotCols.append(strat_cols[j])\n",
    "        \n",
    "    subset[plotCols].plot(figsize=(10,6))    \n",
    "    plt.title('Time Series Plot for ' + fileName)\n",
    "    plt.xlabel(date_col)\n",
    "    plt.ylabel(value_col)\n",
    "    plt.grid(True)\n",
    "    plt.tight_layout()\n",
    "    plt.show()\n",
    "    "
   ]
  },
  {
   "cell_type": "code",
   "execution_count": 5,
   "id": "75010853",
   "metadata": {},
   "outputs": [],
   "source": [
    "def timeSeries(dependentVar, windowSize, MA_cols, strat_cols, start, end):\n",
    "    global subset\n",
    "    subset = df[start:end]\n",
    "    getColumns(dependentVar, windowSize)\n",
    "    plot_timeseries(MA_cols, strat_cols)\n",
    "    "
   ]
  },
  {
   "cell_type": "markdown",
   "id": "84e3dbb3",
   "metadata": {},
   "source": [
    "# Select file to analyse"
   ]
  },
  {
   "cell_type": "code",
   "execution_count": 6,
   "id": "eca8fb50",
   "metadata": {},
   "outputs": [
    {
     "data": {
      "application/vnd.jupyter.widget-view+json": {
       "model_id": "f5a1ca64758f4fe18b4326c586c9227a",
       "version_major": 2,
       "version_minor": 0
      },
      "text/plain": [
       "interactive(children=(Dropdown(description='Select file', options=('CSI_C_1.csv', 'CSI_ES_1.csv', 'CSI_HG_1.cs…"
      ]
     },
     "execution_count": 6,
     "metadata": {},
     "output_type": "execute_result"
    }
   ],
   "source": [
    "# FILE SELECT WIDGET - has to run before rest of processing\n",
    "file_select = widgets.Dropdown(options=data_files, value=data_files[0], description=\"Select file\", disabled=False)\n",
    "widgets.interactive(dfReader, file=file_select)\n"
   ]
  },
  {
   "cell_type": "code",
   "execution_count": 7,
   "id": "cda78a59",
   "metadata": {
    "scrolled": false
   },
   "outputs": [
    {
     "data": {
      "application/vnd.jupyter.widget-view+json": {
       "model_id": "223c768f6f7844988d267554c771d386",
       "version_major": 2,
       "version_minor": 0
      },
      "text/plain": [
       "Text(value='Use shift-click to multi-select moving averages', style=TextStyle(description_width='initial'))"
      ]
     },
     "metadata": {},
     "output_type": "display_data"
    },
    {
     "data": {
      "application/vnd.jupyter.widget-view+json": {
       "model_id": "32575f358ad54abbbdfb45ebd0220c34",
       "version_major": 2,
       "version_minor": 0
      },
      "text/plain": [
       "interactive(children=(Dropdown(description='Select variable', index=4, options=('Open', 'High', 'Low', 'Adjust…"
      ]
     },
     "execution_count": 7,
     "metadata": {},
     "output_type": "execute_result"
    }
   ],
   "source": [
    "# WIDGETS\n",
    "widget_info = widgets.Text(value=\"Use shift-click to multi-select moving averages\", style=style, disabled=False)\n",
    "value_widget = widgets.Dropdown(options=CSI_Header[3:len(CSI_Header)-1], value='Close', description=\"Select variable\", style=style, disabled=False)\n",
    "window_slider = widgets.IntSlider(min=10, max=500, step=1, description=\"MA Window Size\", value=50, style=style)\n",
    "MA_select = widgets.SelectMultiple(options=[\"SMA\",\"EWMA\"], rows=2, value=[], description=\"Select MA\", disabled=False)\n",
    "strat_widget = widgets.SelectMultiple(options=[\"Strategy\", \"BuyHold\", \"StrategySMA\", \"BuyHoldSMA\"], rows=4, value=[], description=\"Select strategies\", style=style, disabled=False)\n",
    "start_widget = widgets.DatePicker(description=\"Start Date\", value=df.index[0])\n",
    "end_widget = widgets.DatePicker(description=\"End Date\", value=df.index[-1])\n",
    "\n",
    "display(widget_info)\n",
    "widgets.interactive(timeSeries, dependentVar=value_widget, windowSize=window_slider, MA_cols=MA_select, strat_cols=strat_widget, start=start_widget, end=end_widget)\n",
    "#HBox([value_widget, window_slider, MA_select, start_widget, end_widget]) - horizontal widget layout, not ideal"
   ]
  },
  {
   "cell_type": "code",
   "execution_count": 8,
   "id": "aa2b8e25",
   "metadata": {},
   "outputs": [
    {
     "data": {
      "application/vnd.jupyter.widget-view+json": {
       "model_id": "bdb72e37fdb84184a7650030d9ed77ed",
       "version_major": 2,
       "version_minor": 0
      },
      "text/plain": [
       "interactive(children=(DatePicker(value=Timestamp('2000-01-03 00:00:00'), description='Start Date', step=1), Da…"
      ]
     },
     "execution_count": 8,
     "metadata": {},
     "output_type": "execute_result"
    }
   ],
   "source": [
    "def plot_cummulative_returns(start_date, end_date):\n",
    "    \n",
    "    subset = df[start_date:end_date]\n",
    "    clear_output(wait=True)\n",
    "    subset['cum_LRN'].plot(figsize=(10, 5))\n",
    "    plt.title('Cumulative Return Plot for ' + fileName)\n",
    "    plt.xlabel('Date')\n",
    "    plt.ylabel(\"cum_LRN\")\n",
    "    plt.grid(True)\n",
    "    plt.tight_layout()\n",
    "    plt.show()\n",
    "\n",
    "start_widget = widgets.DatePicker(description='Start Date', value=df.index[0])\n",
    "end_widget = widgets.DatePicker(description='End Date', value=df.index[-1])\n",
    "\n",
    "widgets.interactive(plot_cummulative_returns, start_date=start_widget, end_date=end_widget)"
   ]
  },
  {
   "cell_type": "code",
   "execution_count": 9,
   "id": "3c34e360",
   "metadata": {},
   "outputs": [
    {
     "data": {
      "application/vnd.jupyter.widget-view+json": {
       "model_id": "ecf01be64f684f4cb4414778c17f6290",
       "version_major": 2,
       "version_minor": 0
      },
      "text/plain": [
       "interactive(children=(DatePicker(value=Timestamp('2000-01-03 00:00:00'), description='Start Date', step=1), Da…"
      ]
     },
     "execution_count": 9,
     "metadata": {},
     "output_type": "execute_result"
    }
   ],
   "source": [
    "# Function to plot based on date range\n",
    "def plot_distribution(start_date, end_date):\n",
    "    subset = df[start_date:end_date]\n",
    "    clear_output(wait=True)\n",
    "    sns.histplot(subset['LRN'], kde=True)\n",
    "    plt.title(f'Distribution of LRN from {start_date} to {end_date}')\n",
    "    plt.xlabel('LRN')\n",
    "    plt.ylabel('Density')\n",
    "    plt.show()\n",
    "    subset.describe()\n",
    "\n",
    "# Interactive widgets\n",
    "start_widget = widgets.DatePicker(description='Start Date', value=df.index[0])\n",
    "end_widget = widgets.DatePicker(description='End Date', value=df.index[-1])\n",
    "widgets.interactive(plot_distribution, start_date=start_widget, end_date=end_widget)\n"
   ]
  },
  {
   "cell_type": "code",
   "execution_count": 10,
   "id": "49c4aaa5",
   "metadata": {
    "scrolled": true
   },
   "outputs": [
    {
     "data": {
      "text/html": [
       "<div>\n",
       "<style scoped>\n",
       "    .dataframe tbody tr th:only-of-type {\n",
       "        vertical-align: middle;\n",
       "    }\n",
       "\n",
       "    .dataframe tbody tr th {\n",
       "        vertical-align: top;\n",
       "    }\n",
       "\n",
       "    .dataframe thead th {\n",
       "        text-align: right;\n",
       "    }\n",
       "</style>\n",
       "<table border=\"1\" class=\"dataframe\">\n",
       "  <thead>\n",
       "    <tr style=\"text-align: right;\">\n",
       "      <th></th>\n",
       "      <th>Source-ID</th>\n",
       "      <th>Open</th>\n",
       "      <th>High</th>\n",
       "      <th>Low</th>\n",
       "      <th>AdjustedClose</th>\n",
       "      <th>Close</th>\n",
       "      <th>Volume</th>\n",
       "    </tr>\n",
       "  </thead>\n",
       "  <tbody>\n",
       "    <tr>\n",
       "      <th>count</th>\n",
       "      <td>5909.0</td>\n",
       "      <td>5909.000000</td>\n",
       "      <td>5909.000000</td>\n",
       "      <td>5909.000000</td>\n",
       "      <td>5909.000000</td>\n",
       "      <td>5909.000000</td>\n",
       "      <td>5909.000000</td>\n",
       "    </tr>\n",
       "    <tr>\n",
       "      <th>mean</th>\n",
       "      <td>4.0</td>\n",
       "      <td>405.186664</td>\n",
       "      <td>407.583347</td>\n",
       "      <td>402.643595</td>\n",
       "      <td>405.130733</td>\n",
       "      <td>392.754739</td>\n",
       "      <td>22265.739211</td>\n",
       "    </tr>\n",
       "    <tr>\n",
       "      <th>std</th>\n",
       "      <td>0.0</td>\n",
       "      <td>160.878460</td>\n",
       "      <td>161.736171</td>\n",
       "      <td>159.894118</td>\n",
       "      <td>160.839320</td>\n",
       "      <td>124.452350</td>\n",
       "      <td>22928.384670</td>\n",
       "    </tr>\n",
       "    <tr>\n",
       "      <th>min</th>\n",
       "      <td>4.0</td>\n",
       "      <td>186.000000</td>\n",
       "      <td>188.000000</td>\n",
       "      <td>185.500000</td>\n",
       "      <td>187.250000</td>\n",
       "      <td>112.000000</td>\n",
       "      <td>0.000000</td>\n",
       "    </tr>\n",
       "    <tr>\n",
       "      <th>25%</th>\n",
       "      <td>4.0</td>\n",
       "      <td>255.500000</td>\n",
       "      <td>257.500000</td>\n",
       "      <td>253.250000</td>\n",
       "      <td>255.250000</td>\n",
       "      <td>301.500000</td>\n",
       "      <td>7361.000000</td>\n",
       "    </tr>\n",
       "    <tr>\n",
       "      <th>50%</th>\n",
       "      <td>4.0</td>\n",
       "      <td>373.750000</td>\n",
       "      <td>375.000000</td>\n",
       "      <td>372.250000</td>\n",
       "      <td>373.750000</td>\n",
       "      <td>397.750000</td>\n",
       "      <td>13393.000000</td>\n",
       "    </tr>\n",
       "    <tr>\n",
       "      <th>75%</th>\n",
       "      <td>4.0</td>\n",
       "      <td>509.000000</td>\n",
       "      <td>515.000000</td>\n",
       "      <td>506.000000</td>\n",
       "      <td>509.250000</td>\n",
       "      <td>473.750000</td>\n",
       "      <td>30932.000000</td>\n",
       "    </tr>\n",
       "    <tr>\n",
       "      <th>max</th>\n",
       "      <td>4.0</td>\n",
       "      <td>838.750000</td>\n",
       "      <td>840.000000</td>\n",
       "      <td>832.500000</td>\n",
       "      <td>838.750000</td>\n",
       "      <td>741.500000</td>\n",
       "      <td>202092.000000</td>\n",
       "    </tr>\n",
       "  </tbody>\n",
       "</table>\n",
       "</div>"
      ],
      "text/plain": [
       "       Source-ID         Open         High          Low  AdjustedClose  \\\n",
       "count     5909.0  5909.000000  5909.000000  5909.000000    5909.000000   \n",
       "mean         4.0   405.186664   407.583347   402.643595     405.130733   \n",
       "std          0.0   160.878460   161.736171   159.894118     160.839320   \n",
       "min          4.0   186.000000   188.000000   185.500000     187.250000   \n",
       "25%          4.0   255.500000   257.500000   253.250000     255.250000   \n",
       "50%          4.0   373.750000   375.000000   372.250000     373.750000   \n",
       "75%          4.0   509.000000   515.000000   506.000000     509.250000   \n",
       "max          4.0   838.750000   840.000000   832.500000     838.750000   \n",
       "\n",
       "             Close         Volume  \n",
       "count  5909.000000    5909.000000  \n",
       "mean    392.754739   22265.739211  \n",
       "std     124.452350   22928.384670  \n",
       "min     112.000000       0.000000  \n",
       "25%     301.500000    7361.000000  \n",
       "50%     397.750000   13393.000000  \n",
       "75%     473.750000   30932.000000  \n",
       "max     741.500000  202092.000000  "
      ]
     },
     "execution_count": 10,
     "metadata": {},
     "output_type": "execute_result"
    }
   ],
   "source": [
    "subset.describe()"
   ]
  }
 ],
 "metadata": {
  "kernelspec": {
   "display_name": "Python 3 (ipykernel)",
   "language": "python",
   "name": "python3"
  },
  "language_info": {
   "codemirror_mode": {
    "name": "ipython",
    "version": 3
   },
   "file_extension": ".py",
   "mimetype": "text/x-python",
   "name": "python",
   "nbconvert_exporter": "python",
   "pygments_lexer": "ipython3",
   "version": "3.11.4"
  }
 },
 "nbformat": 4,
 "nbformat_minor": 5
}
